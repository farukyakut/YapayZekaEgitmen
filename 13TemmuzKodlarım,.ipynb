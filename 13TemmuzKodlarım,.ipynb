{
 "cells": [
  {
   "cell_type": "code",
   "execution_count": 1,
   "id": "03ffc351",
   "metadata": {},
   "outputs": [],
   "source": [
    "###Python Giriş\n"
   ]
  },
  {
   "cell_type": "code",
   "execution_count": 2,
   "id": "7253e914",
   "metadata": {},
   "outputs": [],
   "source": [
    "name = \"Faruk Yakut\""
   ]
  },
  {
   "cell_type": "code",
   "execution_count": 3,
   "id": "bb9a4408",
   "metadata": {},
   "outputs": [
    {
     "data": {
      "text/plain": [
       "'Faruk Yakut'"
      ]
     },
     "execution_count": 3,
     "metadata": {},
     "output_type": "execute_result"
    }
   ],
   "source": [
    "name"
   ]
  },
  {
   "cell_type": "code",
   "execution_count": 4,
   "id": "9ecfd969",
   "metadata": {},
   "outputs": [
    {
     "name": "stdout",
     "output_type": "stream",
     "text": [
      "Faruk Yakut\n"
     ]
    }
   ],
   "source": [
    "print(name)"
   ]
  },
  {
   "cell_type": "code",
   "execution_count": 5,
   "id": "21dd99ab",
   "metadata": {},
   "outputs": [
    {
     "data": {
      "text/plain": [
       "int"
      ]
     },
     "execution_count": 5,
     "metadata": {},
     "output_type": "execute_result"
    }
   ],
   "source": [
    "sayi1 = 12\n",
    "type(sayi1)"
   ]
  },
  {
   "cell_type": "code",
   "execution_count": 6,
   "id": "2b59c086",
   "metadata": {},
   "outputs": [
    {
     "data": {
      "text/plain": [
       "bool"
      ]
     },
     "execution_count": 6,
     "metadata": {},
     "output_type": "execute_result"
    }
   ],
   "source": [
    "var1 = True\n",
    "var = False\n",
    "type(var1)"
   ]
  },
  {
   "cell_type": "code",
   "execution_count": 7,
   "id": "dfb76a85",
   "metadata": {},
   "outputs": [
    {
     "data": {
      "text/plain": [
       "float"
      ]
     },
     "execution_count": 7,
     "metadata": {},
     "output_type": "execute_result"
    }
   ],
   "source": [
    "rakam = 3.14\n",
    "type(rakam)"
   ]
  },
  {
   "cell_type": "code",
   "execution_count": 8,
   "id": "8afc7b03",
   "metadata": {},
   "outputs": [
    {
     "data": {
      "text/plain": [
       "3"
      ]
     },
     "execution_count": 8,
     "metadata": {},
     "output_type": "execute_result"
    }
   ],
   "source": [
    "rakam = int(3.14)\n",
    "rakam"
   ]
  },
  {
   "cell_type": "code",
   "execution_count": 9,
   "id": "b76d2d42",
   "metadata": {},
   "outputs": [
    {
     "name": "stdout",
     "output_type": "stream",
     "text": [
      "İsim : faruk\n",
      "faruk\n"
     ]
    },
    {
     "data": {
      "text/plain": [
       "str"
      ]
     },
     "execution_count": 9,
     "metadata": {},
     "output_type": "execute_result"
    }
   ],
   "source": [
    "name =  input(\"İsim : \")\n",
    "print(name)\n",
    "type(name)"
   ]
  },
  {
   "cell_type": "code",
   "execution_count": 10,
   "id": "d87ee96e",
   "metadata": {},
   "outputs": [
    {
     "name": "stdout",
     "output_type": "stream",
     "text": [
      "Yaşınız :15\n"
     ]
    },
    {
     "data": {
      "text/plain": [
       "str"
      ]
     },
     "execution_count": 10,
     "metadata": {},
     "output_type": "execute_result"
    }
   ],
   "source": [
    "rakam = input(\"Yaşınız :\" )\n",
    "type(rakam)\n"
   ]
  },
  {
   "cell_type": "code",
   "execution_count": 11,
   "id": "ae669c0b",
   "metadata": {},
   "outputs": [
    {
     "name": "stdout",
     "output_type": "stream",
     "text": [
      "Yaşınız :15\n"
     ]
    },
    {
     "data": {
      "text/plain": [
       "int"
      ]
     },
     "execution_count": 11,
     "metadata": {},
     "output_type": "execute_result"
    }
   ],
   "source": [
    "rakam = input(\"Yaşınız :\" )\n",
    "rakam = int(rakam)\n",
    "type(rakam)"
   ]
  },
  {
   "cell_type": "code",
   "execution_count": 12,
   "id": "60d85362",
   "metadata": {},
   "outputs": [
    {
     "data": {
      "text/plain": [
       "6"
      ]
     },
     "execution_count": 12,
     "metadata": {},
     "output_type": "execute_result"
    }
   ],
   "source": [
    "2*3\n"
   ]
  },
  {
   "cell_type": "code",
   "execution_count": 13,
   "id": "8d9550e0",
   "metadata": {},
   "outputs": [
    {
     "data": {
      "text/plain": [
       "8"
      ]
     },
     "execution_count": 13,
     "metadata": {},
     "output_type": "execute_result"
    }
   ],
   "source": [
    "2**3"
   ]
  },
  {
   "cell_type": "code",
   "execution_count": 14,
   "id": "8528bc4f",
   "metadata": {},
   "outputs": [
    {
     "data": {
      "text/plain": [
       "8"
      ]
     },
     "execution_count": 14,
     "metadata": {},
     "output_type": "execute_result"
    }
   ],
   "source": [
    "pow(2,3)"
   ]
  },
  {
   "cell_type": "code",
   "execution_count": 15,
   "id": "b87a37cf",
   "metadata": {},
   "outputs": [],
   "source": [
    "## if-else"
   ]
  },
  {
   "cell_type": "code",
   "execution_count": 16,
   "id": "5c61bf6d",
   "metadata": {},
   "outputs": [
    {
     "name": "stdout",
     "output_type": "stream",
     "text": [
      "Bir sayı giriniz : 5\n",
      "sayı 10'dan küçük\n"
     ]
    }
   ],
   "source": [
    "number = int(input(\"Bir sayı giriniz : \"))\n",
    "if number < 10:\n",
    "    print(\"sayı 10'dan küçük\")\n",
    "else:\n",
    "    print(\"sayı küçük 10\")"
   ]
  },
  {
   "cell_type": "code",
   "execution_count": 17,
   "id": "6771c1a8",
   "metadata": {},
   "outputs": [],
   "source": [
    "### forDöngüsü"
   ]
  },
  {
   "cell_type": "code",
   "execution_count": 18,
   "id": "ee9f262b",
   "metadata": {},
   "outputs": [
    {
     "name": "stdout",
     "output_type": "stream",
     "text": [
      "0\n",
      "1\n",
      "2\n",
      "3\n",
      "4\n"
     ]
    }
   ],
   "source": [
    "for i in range(5):\n",
    "    print(i)"
   ]
  },
  {
   "cell_type": "code",
   "execution_count": 19,
   "id": "5f742176",
   "metadata": {},
   "outputs": [
    {
     "name": "stdout",
     "output_type": "stream",
     "text": [
      "5\n",
      "6\n",
      "7\n",
      "8\n",
      "9\n"
     ]
    }
   ],
   "source": [
    "for i in range(5,10):\n",
    "    print(i)"
   ]
  },
  {
   "cell_type": "code",
   "execution_count": 20,
   "id": "d0ef4cc3",
   "metadata": {},
   "outputs": [
    {
     "name": "stdout",
     "output_type": "stream",
     "text": [
      "5\n",
      "7\n",
      "9\n",
      "11\n",
      "13\n"
     ]
    }
   ],
   "source": [
    "for i in range(5,15,2):\n",
    "    print(i)"
   ]
  },
  {
   "cell_type": "code",
   "execution_count": 21,
   "id": "d1c13c67",
   "metadata": {},
   "outputs": [
    {
     "name": "stdout",
     "output_type": "stream",
     "text": [
      "5\n",
      "4\n",
      "3\n",
      "2\n",
      "1\n"
     ]
    }
   ],
   "source": [
    "for i in range(5,0,-1):\n",
    "    print(i)"
   ]
  },
  {
   "cell_type": "code",
   "execution_count": 22,
   "id": "19fb0937",
   "metadata": {},
   "outputs": [
    {
     "name": "stdout",
     "output_type": "stream",
     "text": [
      "f\n",
      "a\n",
      "r\n",
      "u\n",
      "k\n"
     ]
    }
   ],
   "source": [
    "name=\"faruk\"\n",
    "\n",
    "for j in name:\n",
    "    print(j)"
   ]
  },
  {
   "cell_type": "code",
   "execution_count": 23,
   "id": "e4912f7d",
   "metadata": {},
   "outputs": [],
   "source": [
    "### 1' den 10' a kadar olan sayıların toplamı\n"
   ]
  },
  {
   "cell_type": "code",
   "execution_count": 25,
   "id": "78b538aa",
   "metadata": {},
   "outputs": [
    {
     "data": {
      "text/plain": [
       "55"
      ]
     },
     "execution_count": 25,
     "metadata": {},
     "output_type": "execute_result"
    }
   ],
   "source": [
    "toplam = 0\n",
    "for i in range(11):\n",
    "    toplam +=i\n",
    "\n",
    "toplam    \n",
    "    "
   ]
  },
  {
   "cell_type": "code",
   "execution_count": 26,
   "id": "a0868ec8",
   "metadata": {},
   "outputs": [],
   "source": [
    "###whilw"
   ]
  },
  {
   "cell_type": "code",
   "execution_count": 29,
   "id": "8ec3ce03",
   "metadata": {},
   "outputs": [
    {
     "name": "stdout",
     "output_type": "stream",
     "text": [
      "Tahmininizi giriniz : 10\n",
      "Yanlış tahmin\n",
      "Tahmininizi giriniz : 9\n",
      "Yanlış tahmin\n",
      "Tahmininizi giriniz : 8\n",
      "Yanlış tahmin\n",
      "Tahmininizi giriniz : 7\n",
      "Yanlış tahmin\n",
      "Tahmininizi giriniz : 6\n",
      "Yanlış tahmin\n",
      "Tahmininizi giriniz : 5\n",
      "Doğru sayi\n"
     ]
    }
   ],
   "source": [
    "import random\n",
    "secret_number = random.randint(1,10)\n",
    "while True:\n",
    "    guess = int(input(\"Tahmininizi giriniz : \"))\n",
    "    if guess == secret_number:\n",
    "        print(\"Doğru sayi\")\n",
    "        break\n",
    "    else:\n",
    "        print(\"Yanlış tahmin\")"
   ]
  },
  {
   "cell_type": "code",
   "execution_count": 30,
   "id": "ae1735fe",
   "metadata": {},
   "outputs": [],
   "source": [
    "###func"
   ]
  },
  {
   "cell_type": "code",
   "execution_count": 34,
   "id": "9a5de100",
   "metadata": {},
   "outputs": [
    {
     "name": "stdout",
     "output_type": "stream",
     "text": [
      "55\n",
      "55\n",
      "None\n"
     ]
    }
   ],
   "source": [
    "def toplama(rakam):\n",
    "    toplam = 0\n",
    "    for i in range(rakam+1):\n",
    "        toplam += i\n",
    "        \n",
    "    print(toplam)    \n",
    "        \n",
    "        \n",
    "toplama(10)\n",
    "print(toplama(10))"
   ]
  },
  {
   "cell_type": "code",
   "execution_count": 33,
   "id": "eab37176",
   "metadata": {},
   "outputs": [
    {
     "name": "stdout",
     "output_type": "stream",
     "text": [
      "55\n"
     ]
    }
   ],
   "source": [
    "def toplama2(rakam):\n",
    "    toplam = 0\n",
    "    for i in range(rakam+1):\n",
    "        toplam += i\n",
    "        \n",
    "    return toplam   \n",
    "        \n",
    "        \n",
    "toplama2(10)\n",
    "print(toplama2(10))"
   ]
  },
  {
   "cell_type": "code",
   "execution_count": 35,
   "id": "edab5071",
   "metadata": {},
   "outputs": [],
   "source": [
    "###Listeler"
   ]
  },
  {
   "cell_type": "code",
   "execution_count": 39,
   "id": "bd1dc034",
   "metadata": {},
   "outputs": [
    {
     "name": "stdout",
     "output_type": "stream",
     "text": [
      "[1, 2, 3, 4, 5, 6, 7, 8, 9]\n",
      "9\n",
      "1\n",
      "8\n",
      "[9]\n"
     ]
    }
   ],
   "source": [
    "liste = [1,2,3,4,5,6,7,8,9]\n",
    "\n",
    "print(liste)\n",
    "\n",
    "print(liste[-1])\n",
    "print(liste[0])\n",
    "print(liste[-2])\n",
    "print(liste[-1:])\n",
    "\n",
    "\n"
   ]
  },
  {
   "cell_type": "code",
   "execution_count": 61,
   "id": "6f249e23",
   "metadata": {},
   "outputs": [
    {
     "data": {
      "text/plain": [
       "8"
      ]
     },
     "execution_count": 61,
     "metadata": {},
     "output_type": "execute_result"
    }
   ],
   "source": [
    "liste2 = [1,2,3,\"elma\",\"armut\",True,False,[\"a\",8,7]]\n",
    "len(liste2)\n"
   ]
  },
  {
   "cell_type": "code",
   "execution_count": 47,
   "id": "75db9b66",
   "metadata": {},
   "outputs": [
    {
     "data": {
      "text/plain": [
       "['a', 8, 7]"
      ]
     },
     "execution_count": 47,
     "metadata": {},
     "output_type": "execute_result"
    }
   ],
   "source": [
    "liste2[-1]"
   ]
  },
  {
   "cell_type": "code",
   "execution_count": 48,
   "id": "11ee7718",
   "metadata": {},
   "outputs": [
    {
     "data": {
      "text/plain": [
       "7"
      ]
     },
     "execution_count": 48,
     "metadata": {},
     "output_type": "execute_result"
    }
   ],
   "source": [
    "liste2[-1][2]"
   ]
  },
  {
   "cell_type": "code",
   "execution_count": 49,
   "id": "6ba2eb43",
   "metadata": {},
   "outputs": [
    {
     "data": {
      "text/plain": [
       "[1, 2, 3, 'elma', 'armut']"
      ]
     },
     "execution_count": 49,
     "metadata": {},
     "output_type": "execute_result"
    }
   ],
   "source": [
    "liste2[0:5]"
   ]
  },
  {
   "cell_type": "code",
   "execution_count": 50,
   "id": "28fc2135",
   "metadata": {},
   "outputs": [
    {
     "data": {
      "text/plain": [
       "[3, 'elma', 'armut', True]"
      ]
     },
     "execution_count": 50,
     "metadata": {},
     "output_type": "execute_result"
    }
   ],
   "source": [
    "liste2[2:6]"
   ]
  },
  {
   "cell_type": "code",
   "execution_count": 51,
   "id": "4ce846f8",
   "metadata": {},
   "outputs": [
    {
     "data": {
      "text/plain": [
       "[1, 2, 3, 'elma', 'armut']"
      ]
     },
     "execution_count": 51,
     "metadata": {},
     "output_type": "execute_result"
    }
   ],
   "source": [
    "liste2[:5]"
   ]
  },
  {
   "cell_type": "code",
   "execution_count": 52,
   "id": "3142fc64",
   "metadata": {},
   "outputs": [
    {
     "data": {
      "text/plain": [
       "[1, 2, 3, 'elma', 'armut', True, False]"
      ]
     },
     "execution_count": 52,
     "metadata": {},
     "output_type": "execute_result"
    }
   ],
   "source": [
    "liste2[:-1]"
   ]
  },
  {
   "cell_type": "code",
   "execution_count": 53,
   "id": "c2ac5749",
   "metadata": {},
   "outputs": [
    {
     "data": {
      "text/plain": [
       "[3, 'elma', 'armut', True, False, ['a', 8, 7]]"
      ]
     },
     "execution_count": 53,
     "metadata": {},
     "output_type": "execute_result"
    }
   ],
   "source": [
    "liste2[2:]"
   ]
  },
  {
   "cell_type": "code",
   "execution_count": 54,
   "id": "ff96aa10",
   "metadata": {},
   "outputs": [],
   "source": [
    "liste2.append(11)"
   ]
  },
  {
   "cell_type": "code",
   "execution_count": 55,
   "id": "a0f29c2f",
   "metadata": {},
   "outputs": [
    {
     "data": {
      "text/plain": [
       "[1, 2, 3, 'elma', 'armut', True, False, ['a', 8, 7], 11]"
      ]
     },
     "execution_count": 55,
     "metadata": {},
     "output_type": "execute_result"
    }
   ],
   "source": [
    "liste2"
   ]
  },
  {
   "cell_type": "code",
   "execution_count": 62,
   "id": "5f0a23b0",
   "metadata": {},
   "outputs": [
    {
     "data": {
      "text/plain": [
       "[1, 'fare', 2, 3, 'elma', 'armut', True, False, ['a', 8, 7]]"
      ]
     },
     "execution_count": 62,
     "metadata": {},
     "output_type": "execute_result"
    }
   ],
   "source": [
    "liste2.insert(1,\"fare\")\n",
    "liste2"
   ]
  },
  {
   "cell_type": "code",
   "execution_count": 63,
   "id": "c499dad4",
   "metadata": {},
   "outputs": [
    {
     "data": {
      "text/plain": [
       "[1, 'fare', 3, 'elma', 'armut', True, False, ['a', 8, 7]]"
      ]
     },
     "execution_count": 63,
     "metadata": {},
     "output_type": "execute_result"
    }
   ],
   "source": [
    "del liste2[2]\n",
    "liste2"
   ]
  },
  {
   "cell_type": "code",
   "execution_count": 64,
   "id": "cb685b69",
   "metadata": {},
   "outputs": [
    {
     "data": {
      "text/plain": [
       "[1, 'fare', 3, 'elma', 'armut', True, False, ['a', 8, 7], [4, 8, 9]]"
      ]
     },
     "execution_count": 64,
     "metadata": {},
     "output_type": "execute_result"
    }
   ],
   "source": [
    "liste2.append([4,8,9])\n",
    "liste2\n"
   ]
  },
  {
   "cell_type": "code",
   "execution_count": 65,
   "id": "1cc6f6ea",
   "metadata": {},
   "outputs": [
    {
     "data": {
      "text/plain": [
       "[1, 'fare', 3, 'elma', 'armut', True, False, ['a', 8, 7], [4, 8, 9], 4, 8, 9]"
      ]
     },
     "execution_count": 65,
     "metadata": {},
     "output_type": "execute_result"
    }
   ],
   "source": [
    "liste2.extend([4,8,9])\n",
    "liste2"
   ]
  },
  {
   "cell_type": "code",
   "execution_count": 66,
   "id": "fea2676a",
   "metadata": {},
   "outputs": [
    {
     "data": {
      "text/plain": [
       "[1, 'fare', 3, 'elma', True, False, ['a', 8, 7], [4, 8, 9], 4, 8, 9]"
      ]
     },
     "execution_count": 66,
     "metadata": {},
     "output_type": "execute_result"
    }
   ],
   "source": [
    "liste2.remove(\"armut\")\n",
    "liste2"
   ]
  },
  {
   "cell_type": "code",
   "execution_count": 67,
   "id": "3234d8c6",
   "metadata": {},
   "outputs": [
    {
     "data": {
      "text/plain": [
       "False"
      ]
     },
     "execution_count": 67,
     "metadata": {},
     "output_type": "execute_result"
    }
   ],
   "source": [
    "\"merhaba\" in liste"
   ]
  },
  {
   "cell_type": "code",
   "execution_count": 68,
   "id": "5b954fd7",
   "metadata": {},
   "outputs": [
    {
     "data": {
      "text/plain": [
       "True"
      ]
     },
     "execution_count": 68,
     "metadata": {},
     "output_type": "execute_result"
    }
   ],
   "source": [
    "\"elma\" in liste2"
   ]
  },
  {
   "cell_type": "code",
   "execution_count": 69,
   "id": "c2ae0079",
   "metadata": {},
   "outputs": [
    {
     "data": {
      "text/plain": [
       "True"
      ]
     },
     "execution_count": 69,
     "metadata": {},
     "output_type": "execute_result"
    }
   ],
   "source": [
    "1 in liste2"
   ]
  },
  {
   "cell_type": "code",
   "execution_count": 70,
   "id": "708efafb",
   "metadata": {},
   "outputs": [
    {
     "data": {
      "text/plain": [
       "[1, 'fare', 3, 'elma', True, False, ['a', 8, 7], [4, 8, 9], 4, 8, 9, 9, 9, 9]"
      ]
     },
     "execution_count": 70,
     "metadata": {},
     "output_type": "execute_result"
    }
   ],
   "source": [
    "liste2.extend([9,9,9])\n",
    "liste2"
   ]
  },
  {
   "cell_type": "code",
   "execution_count": 72,
   "id": "7b99fbdc",
   "metadata": {},
   "outputs": [
    {
     "data": {
      "text/plain": [
       "[1, 'fare', 3, 'elma', True, False, ['a', 8, 7], [4, 8, 9], 4, 8]"
      ]
     },
     "execution_count": 72,
     "metadata": {},
     "output_type": "execute_result"
    }
   ],
   "source": [
    "while 9 in liste2:\n",
    "    liste2.remove(9)\n",
    "    \n",
    "liste2    "
   ]
  },
  {
   "cell_type": "code",
   "execution_count": 73,
   "id": "cdc20125",
   "metadata": {},
   "outputs": [],
   "source": [
    "liste3 = [9,4,6,7,2,3,1,5]\n",
    "liste4 = [\"kedi\",\"pande\",\"at\",\"eşşek\"]"
   ]
  },
  {
   "cell_type": "code",
   "execution_count": 75,
   "id": "b0c1c1af",
   "metadata": {},
   "outputs": [
    {
     "data": {
      "text/plain": [
       "[1, 2, 3, 4, 5, 6, 7, 9]"
      ]
     },
     "execution_count": 75,
     "metadata": {},
     "output_type": "execute_result"
    }
   ],
   "source": [
    "liste3.sort()\n",
    "liste3"
   ]
  },
  {
   "cell_type": "code",
   "execution_count": 76,
   "id": "3a298c1f",
   "metadata": {},
   "outputs": [
    {
     "data": {
      "text/plain": [
       "[9, 7, 6, 5, 4, 3, 2, 1]"
      ]
     },
     "execution_count": 76,
     "metadata": {},
     "output_type": "execute_result"
    }
   ],
   "source": [
    "liste3.sort(reverse = True)\n",
    "liste3"
   ]
  },
  {
   "cell_type": "code",
   "execution_count": 77,
   "id": "b6b31c9b",
   "metadata": {},
   "outputs": [
    {
     "data": {
      "text/plain": [
       "['at', 'eşşek', 'kedi', 'pande']"
      ]
     },
     "execution_count": 77,
     "metadata": {},
     "output_type": "execute_result"
    }
   ],
   "source": [
    "liste4.sort()\n",
    "liste4"
   ]
  },
  {
   "cell_type": "code",
   "execution_count": 78,
   "id": "e3c84787",
   "metadata": {},
   "outputs": [],
   "source": [
    "###Sözlük (Dictionary) Veri Yapısı"
   ]
  },
  {
   "cell_type": "code",
   "execution_count": 79,
   "id": "4d2d8f72",
   "metadata": {},
   "outputs": [
    {
     "data": {
      "text/plain": [
       "{}"
      ]
     },
     "execution_count": 79,
     "metadata": {},
     "output_type": "execute_result"
    }
   ],
   "source": [
    "myCat = {}\n",
    "myCat"
   ]
  },
  {
   "cell_type": "code",
   "execution_count": 80,
   "id": "39bcb86a",
   "metadata": {},
   "outputs": [],
   "source": [
    "myCat = {\"size\":\"fat\",\"age\":2,\"color\":\"white\"}"
   ]
  },
  {
   "cell_type": "code",
   "execution_count": 81,
   "id": "59a5ba33",
   "metadata": {},
   "outputs": [
    {
     "data": {
      "text/plain": [
       "dict_keys(['size', 'age', 'color'])"
      ]
     },
     "execution_count": 81,
     "metadata": {},
     "output_type": "execute_result"
    }
   ],
   "source": [
    "myCat.keys()"
   ]
  },
  {
   "cell_type": "code",
   "execution_count": 83,
   "id": "c6a048cc",
   "metadata": {},
   "outputs": [
    {
     "data": {
      "text/plain": [
       "['size', 'age', 'color']"
      ]
     },
     "execution_count": 83,
     "metadata": {},
     "output_type": "execute_result"
    }
   ],
   "source": [
    "list(myCat.keys())"
   ]
  },
  {
   "cell_type": "code",
   "execution_count": 84,
   "id": "0ce3ec9e",
   "metadata": {},
   "outputs": [
    {
     "data": {
      "text/plain": [
       "dict_values(['fat', 2, 'white'])"
      ]
     },
     "execution_count": 84,
     "metadata": {},
     "output_type": "execute_result"
    }
   ],
   "source": [
    "myCat.values()"
   ]
  },
  {
   "cell_type": "code",
   "execution_count": 85,
   "id": "b9d0a95a",
   "metadata": {},
   "outputs": [
    {
     "data": {
      "text/plain": [
       "{'size': 'fat', 'age': 2, 'color': 'white'}"
      ]
     },
     "execution_count": 85,
     "metadata": {},
     "output_type": "execute_result"
    }
   ],
   "source": [
    "myCat\n"
   ]
  },
  {
   "cell_type": "code",
   "execution_count": 86,
   "id": "976571fb",
   "metadata": {},
   "outputs": [
    {
     "data": {
      "text/plain": [
       "dict_items([('size', 'fat'), ('age', 2), ('color', 'white')])"
      ]
     },
     "execution_count": 86,
     "metadata": {},
     "output_type": "execute_result"
    }
   ],
   "source": [
    "myCat.items()"
   ]
  },
  {
   "cell_type": "code",
   "execution_count": 88,
   "id": "cc717099",
   "metadata": {},
   "outputs": [],
   "source": [
    "ogrenciler={\"isim\" : [\"ahmet\",\"zeynep\",\"veli\"],\n",
    "           \"yas\":[15,16,15],\n",
    "           \"boy\":[160,165,185]}"
   ]
  },
  {
   "cell_type": "code",
   "execution_count": 89,
   "id": "309cdd74",
   "metadata": {},
   "outputs": [
    {
     "data": {
      "text/plain": [
       "{'isim': ['ahmet', 'zeynep', 'veli'],\n",
       " 'yas': [15, 16, 15],\n",
       " 'boy': [160, 165, 185]}"
      ]
     },
     "execution_count": 89,
     "metadata": {},
     "output_type": "execute_result"
    }
   ],
   "source": [
    "ogrenciler"
   ]
  },
  {
   "cell_type": "code",
   "execution_count": 90,
   "id": "d52682f7",
   "metadata": {},
   "outputs": [],
   "source": [
    "ogrenciler[\"notlar\"]=[75,80,95]"
   ]
  },
  {
   "cell_type": "code",
   "execution_count": 91,
   "id": "f4337872",
   "metadata": {},
   "outputs": [
    {
     "data": {
      "text/plain": [
       "{'isim': ['ahmet', 'zeynep', 'veli'],\n",
       " 'yas': [15, 16, 15],\n",
       " 'boy': [160, 165, 185],\n",
       " 'notlar': [75, 80, 95]}"
      ]
     },
     "execution_count": 91,
     "metadata": {},
     "output_type": "execute_result"
    }
   ],
   "source": [
    "ogrenciler"
   ]
  },
  {
   "cell_type": "code",
   "execution_count": 92,
   "id": "dd209a41",
   "metadata": {},
   "outputs": [
    {
     "data": {
      "text/plain": [
       "True"
      ]
     },
     "execution_count": 92,
     "metadata": {},
     "output_type": "execute_result"
    }
   ],
   "source": [
    "\"isim\" in ogrenciler.keys()"
   ]
  },
  {
   "cell_type": "code",
   "execution_count": 94,
   "id": "329d605c",
   "metadata": {},
   "outputs": [
    {
     "data": {
      "text/plain": [
       "dict_values([['ahmet', 'zeynep', 'veli'], [15, 16, 15], [160, 165, 185], [75, 80, 95]])"
      ]
     },
     "execution_count": 94,
     "metadata": {},
     "output_type": "execute_result"
    }
   ],
   "source": [
    "ogrenciler.values()"
   ]
  },
  {
   "cell_type": "code",
   "execution_count": 95,
   "id": "a19ff5d5",
   "metadata": {},
   "outputs": [
    {
     "data": {
      "text/plain": [
       "False"
      ]
     },
     "execution_count": 95,
     "metadata": {},
     "output_type": "execute_result"
    }
   ],
   "source": [
    "\"zeynep\" in ogrenciler.values()"
   ]
  },
  {
   "cell_type": "code",
   "execution_count": 96,
   "id": "d09a7ccb",
   "metadata": {},
   "outputs": [
    {
     "data": {
      "text/plain": [
       "True"
      ]
     },
     "execution_count": 96,
     "metadata": {},
     "output_type": "execute_result"
    }
   ],
   "source": [
    "\"zeynep\" in ogrenciler[\"isim\"]"
   ]
  },
  {
   "cell_type": "code",
   "execution_count": 97,
   "id": "bbfbdbaf",
   "metadata": {},
   "outputs": [
    {
     "name": "stdout",
     "output_type": "stream",
     "text": [
      "isim\n",
      "yas\n",
      "boy\n",
      "notlar\n"
     ]
    }
   ],
   "source": [
    "for i in ogrenciler.keys():\n",
    "    print(i)\n"
   ]
  },
  {
   "cell_type": "code",
   "execution_count": 98,
   "id": "1603a650",
   "metadata": {},
   "outputs": [
    {
     "name": "stdout",
     "output_type": "stream",
     "text": [
      "('isim', ['ahmet', 'zeynep', 'veli'])\n",
      "('yas', [15, 16, 15])\n",
      "('boy', [160, 165, 185])\n",
      "('notlar', [75, 80, 95])\n"
     ]
    }
   ],
   "source": [
    "for i in ogrenciler.items():\n",
    "    print(i)"
   ]
  },
  {
   "cell_type": "code",
   "execution_count": 104,
   "id": "db2b5728",
   "metadata": {},
   "outputs": [
    {
     "name": "stdout",
     "output_type": "stream",
     "text": [
      "ahmet 15 160 75 "
     ]
    }
   ],
   "source": [
    "#ahmet, 15,160,75\n",
    "\n",
    "for i in ogrenciler.keys():\n",
    "    print(ogrenciler[i][0], end=\" \")\n"
   ]
  },
  {
   "cell_type": "code",
   "execution_count": 111,
   "id": "7d7de2a9",
   "metadata": {},
   "outputs": [
    {
     "name": "stdout",
     "output_type": "stream",
     "text": [
      "\n",
      "ahmet 15 160 75 \n",
      "zeynep 16 165 80 \n",
      "veli 15 185 95 "
     ]
    }
   ],
   "source": [
    "for i in range(len(ogrenciler.values())-1):\n",
    "    print()\n",
    "    for j in ogrenciler.keys():\n",
    "            print(ogrenciler[j][i], end=\" \")\n",
    "        "
   ]
  },
  {
   "cell_type": "code",
   "execution_count": 114,
   "id": "783b627f",
   "metadata": {},
   "outputs": [
    {
     "name": "stdout",
     "output_type": "stream",
     "text": [
      "[6, 24, 54]\n"
     ]
    }
   ],
   "source": [
    "###Numpy Kütüphanesi\n",
    "liste1=[2,4,6]\n",
    "liste2=[3,6,9]\n",
    "\n",
    "liste3=[]\n",
    "for i in range(len(liste1)):\n",
    "    liste3.append(liste1[i]*liste2[i])\n",
    "print(liste3)    "
   ]
  },
  {
   "cell_type": "code",
   "execution_count": 115,
   "id": "4c64b0f6",
   "metadata": {},
   "outputs": [],
   "source": [
    "import numpy as np"
   ]
  },
  {
   "cell_type": "code",
   "execution_count": 116,
   "id": "bdee809a",
   "metadata": {},
   "outputs": [
    {
     "name": "stdout",
     "output_type": "stream",
     "text": [
      "[ 6 24 54]\n"
     ]
    }
   ],
   "source": [
    "a = np.array([2,4,6])\n",
    "b = np.array([3,6,9])\n",
    "print(a*b)"
   ]
  },
  {
   "cell_type": "code",
   "execution_count": 117,
   "id": "8641d1fd",
   "metadata": {},
   "outputs": [],
   "source": [
    "c = np.array([2,3,5,3.14])"
   ]
  },
  {
   "cell_type": "code",
   "execution_count": 118,
   "id": "00a2d464",
   "metadata": {},
   "outputs": [
    {
     "data": {
      "text/plain": [
       "array([2.  , 3.  , 5.  , 3.14])"
      ]
     },
     "execution_count": 118,
     "metadata": {},
     "output_type": "execute_result"
    }
   ],
   "source": [
    "c"
   ]
  },
  {
   "cell_type": "code",
   "execution_count": 119,
   "id": "eabe043f",
   "metadata": {},
   "outputs": [],
   "source": [
    "d = np.array([2,3,5,3.14],dtype=\"int\")"
   ]
  },
  {
   "cell_type": "code",
   "execution_count": 120,
   "id": "e45c8728",
   "metadata": {},
   "outputs": [
    {
     "data": {
      "text/plain": [
       "array([2, 3, 5, 3])"
      ]
     },
     "execution_count": 120,
     "metadata": {},
     "output_type": "execute_result"
    }
   ],
   "source": [
    "d"
   ]
  },
  {
   "cell_type": "code",
   "execution_count": 121,
   "id": "9e927477",
   "metadata": {},
   "outputs": [],
   "source": [
    "d2 = np.array([[1,2,3,],[4,5,6]])"
   ]
  },
  {
   "cell_type": "code",
   "execution_count": 122,
   "id": "448d7bb1",
   "metadata": {},
   "outputs": [
    {
     "data": {
      "text/plain": [
       "array([[1, 2, 3],\n",
       "       [4, 5, 6]])"
      ]
     },
     "execution_count": 122,
     "metadata": {},
     "output_type": "execute_result"
    }
   ],
   "source": [
    "d2"
   ]
  },
  {
   "cell_type": "code",
   "execution_count": 123,
   "id": "c64138b5",
   "metadata": {},
   "outputs": [
    {
     "data": {
      "text/plain": [
       "array([0., 0., 0.])"
      ]
     },
     "execution_count": 123,
     "metadata": {},
     "output_type": "execute_result"
    }
   ],
   "source": [
    "np.zeros(3)"
   ]
  },
  {
   "cell_type": "code",
   "execution_count": 124,
   "id": "629a7268",
   "metadata": {},
   "outputs": [
    {
     "data": {
      "text/plain": [
       "array([0, 0, 0])"
      ]
     },
     "execution_count": 124,
     "metadata": {},
     "output_type": "execute_result"
    }
   ],
   "source": [
    "np.zeros(3,dtype=\"int\")"
   ]
  },
  {
   "cell_type": "code",
   "execution_count": 125,
   "id": "c622d1ac",
   "metadata": {},
   "outputs": [
    {
     "data": {
      "text/plain": [
       "array([1., 1., 1., 1., 1.])"
      ]
     },
     "execution_count": 125,
     "metadata": {},
     "output_type": "execute_result"
    }
   ],
   "source": [
    "np.ones(5)"
   ]
  },
  {
   "cell_type": "code",
   "execution_count": 128,
   "id": "1521ff8f",
   "metadata": {},
   "outputs": [
    {
     "data": {
      "text/plain": [
       "array([[1., 1., 1.],\n",
       "       [1., 1., 1.]])"
      ]
     },
     "execution_count": 128,
     "metadata": {},
     "output_type": "execute_result"
    }
   ],
   "source": [
    "np.ones((2,3))"
   ]
  },
  {
   "cell_type": "code",
   "execution_count": 129,
   "id": "c19c757a",
   "metadata": {},
   "outputs": [
    {
     "data": {
      "text/plain": [
       "array([[3, 3],\n",
       "       [3, 3],\n",
       "       [3, 3],\n",
       "       [3, 3]])"
      ]
     },
     "execution_count": 129,
     "metadata": {},
     "output_type": "execute_result"
    }
   ],
   "source": [
    "np.full((4,2),3)"
   ]
  },
  {
   "cell_type": "code",
   "execution_count": 130,
   "id": "b49a1cc9",
   "metadata": {},
   "outputs": [
    {
     "data": {
      "text/plain": [
       "array([6, 6, 6, 6, 6])"
      ]
     },
     "execution_count": 130,
     "metadata": {},
     "output_type": "execute_result"
    }
   ],
   "source": [
    "np.full(5,6)"
   ]
  },
  {
   "cell_type": "code",
   "execution_count": 132,
   "id": "d7e132f6",
   "metadata": {},
   "outputs": [
    {
     "data": {
      "text/plain": [
       "array([ 0,  4,  8, 12])"
      ]
     },
     "execution_count": 132,
     "metadata": {},
     "output_type": "execute_result"
    }
   ],
   "source": [
    "np.arange(0,15,4)"
   ]
  },
  {
   "cell_type": "code",
   "execution_count": 133,
   "id": "63bc168f",
   "metadata": {},
   "outputs": [
    {
     "data": {
      "text/plain": [
       "array([ 0,  1,  2,  3,  4,  5,  6,  7,  8,  9, 10, 11, 12, 13])"
      ]
     },
     "execution_count": 133,
     "metadata": {},
     "output_type": "execute_result"
    }
   ],
   "source": [
    "np.arange(0,14)"
   ]
  },
  {
   "cell_type": "code",
   "execution_count": 135,
   "id": "9bc25f3e",
   "metadata": {},
   "outputs": [
    {
     "data": {
      "text/plain": [
       "array([ 0.        ,  0.28571429,  0.57142857,  0.85714286,  1.14285714,\n",
       "        1.42857143,  1.71428571,  2.        ,  2.28571429,  2.57142857,\n",
       "        2.85714286,  3.14285714,  3.42857143,  3.71428571,  4.        ,\n",
       "        4.28571429,  4.57142857,  4.85714286,  5.14285714,  5.42857143,\n",
       "        5.71428571,  6.        ,  6.28571429,  6.57142857,  6.85714286,\n",
       "        7.14285714,  7.42857143,  7.71428571,  8.        ,  8.28571429,\n",
       "        8.57142857,  8.85714286,  9.14285714,  9.42857143,  9.71428571,\n",
       "       10.        , 10.28571429, 10.57142857, 10.85714286, 11.14285714,\n",
       "       11.42857143, 11.71428571, 12.        , 12.28571429, 12.57142857,\n",
       "       12.85714286, 13.14285714, 13.42857143, 13.71428571, 14.        ])"
      ]
     },
     "execution_count": 135,
     "metadata": {},
     "output_type": "execute_result"
    }
   ],
   "source": [
    "np.linspace(0,14)"
   ]
  },
  {
   "cell_type": "code",
   "execution_count": 136,
   "id": "b548faf6",
   "metadata": {},
   "outputs": [
    {
     "data": {
      "text/plain": [
       "array([0.])"
      ]
     },
     "execution_count": 136,
     "metadata": {},
     "output_type": "execute_result"
    }
   ],
   "source": [
    "np.linspace(0,14,1)"
   ]
  },
  {
   "cell_type": "code",
   "execution_count": 137,
   "id": "3af1a67a",
   "metadata": {},
   "outputs": [
    {
     "data": {
      "text/plain": [
       "array([ 0. ,  2.8,  5.6,  8.4, 11.2, 14. ])"
      ]
     },
     "execution_count": 137,
     "metadata": {},
     "output_type": "execute_result"
    }
   ],
   "source": [
    "np.linspace(0,14,6)"
   ]
  },
  {
   "cell_type": "code",
   "execution_count": 138,
   "id": "2408f902",
   "metadata": {},
   "outputs": [],
   "source": [
    "?np.linspace"
   ]
  },
  {
   "cell_type": "code",
   "execution_count": 141,
   "id": "3a555988",
   "metadata": {},
   "outputs": [
    {
     "data": {
      "text/plain": [
       "array([ 0.        ,  0.28571429,  0.57142857,  0.85714286,  1.14285714,\n",
       "        1.42857143,  1.71428571,  2.        ,  2.28571429,  2.57142857,\n",
       "        2.85714286,  3.14285714,  3.42857143,  3.71428571,  4.        ,\n",
       "        4.28571429,  4.57142857,  4.85714286,  5.14285714,  5.42857143,\n",
       "        5.71428571,  6.        ,  6.28571429,  6.57142857,  6.85714286,\n",
       "        7.14285714,  7.42857143,  7.71428571,  8.        ,  8.28571429,\n",
       "        8.57142857,  8.85714286,  9.14285714,  9.42857143,  9.71428571,\n",
       "       10.        , 10.28571429, 10.57142857, 10.85714286, 11.14285714,\n",
       "       11.42857143, 11.71428571, 12.        , 12.28571429, 12.57142857,\n",
       "       12.85714286, 13.14285714, 13.42857143, 13.71428571, 14.        ])"
      ]
     },
     "execution_count": 141,
     "metadata": {},
     "output_type": "execute_result"
    }
   ],
   "source": [
    "np.linspace(\n",
    "    0,\n",
    "    14,\n",
    "    num=50,\n",
    "    endpoint=True,\n",
    "    retstep=False,\n",
    "    dtype=None,\n",
    "    axis=0,\n",
    ")"
   ]
  },
  {
   "cell_type": "code",
   "execution_count": 145,
   "id": "48de4c44",
   "metadata": {},
   "outputs": [
    {
     "data": {
      "text/plain": [
       "array([ 0,  0,  0,  0,  1,  1,  1,  2,  2,  2,  2,  3,  3,  3,  4,  4,  4,\n",
       "        4,  5,  5,  5,  6,  6,  6,  6,  7,  7,  7,  8,  8,  8,  8,  9,  9,\n",
       "        9, 10, 10, 10, 10, 11, 11, 11, 12, 12, 12, 12, 13, 13, 13, 14])"
      ]
     },
     "execution_count": 145,
     "metadata": {},
     "output_type": "execute_result"
    }
   ],
   "source": [
    "np.linspace(\n",
    "    0,\n",
    "    14,\n",
    "    num=50,\n",
    "    endpoint=True,\n",
    "    retstep=False,\n",
    "    dtype=\"int\",\n",
    "    axis=0,\n",
    ")"
   ]
  },
  {
   "cell_type": "code",
   "execution_count": 146,
   "id": "e77e473d",
   "metadata": {},
   "outputs": [
    {
     "data": {
      "text/plain": [
       "array([[5, 5],\n",
       "       [5, 6],\n",
       "       [1, 7],\n",
       "       [9, 5]])"
      ]
     },
     "execution_count": 146,
     "metadata": {},
     "output_type": "execute_result"
    }
   ],
   "source": [
    "np.random.randint(0,10,(4,2))"
   ]
  },
  {
   "cell_type": "code",
   "execution_count": 152,
   "id": "9ab6e502",
   "metadata": {},
   "outputs": [
    {
     "data": {
      "text/plain": [
       "array([[0.87438422, 0.37072088],\n",
       "       [0.2630727 , 0.74632318],\n",
       "       [0.73360823, 0.80545238]])"
      ]
     },
     "execution_count": 152,
     "metadata": {},
     "output_type": "execute_result"
    }
   ],
   "source": [
    "np.random.random((3,2))"
   ]
  },
  {
   "cell_type": "code",
   "execution_count": 158,
   "id": "61032d51",
   "metadata": {},
   "outputs": [
    {
     "data": {
      "text/plain": [
       "array([[8, 7],\n",
       "       [0, 6],\n",
       "       [6, 0],\n",
       "       [2, 5]])"
      ]
     },
     "execution_count": 158,
     "metadata": {},
     "output_type": "execute_result"
    }
   ],
   "source": [
    "a = np.random.randint(0,10,(4,2))\n",
    "a"
   ]
  },
  {
   "cell_type": "code",
   "execution_count": 155,
   "id": "91f05fb6",
   "metadata": {},
   "outputs": [
    {
     "data": {
      "text/plain": [
       "array([6, 9])"
      ]
     },
     "execution_count": 155,
     "metadata": {},
     "output_type": "execute_result"
    }
   ],
   "source": [
    "a[0]"
   ]
  },
  {
   "cell_type": "code",
   "execution_count": 159,
   "id": "3c406932",
   "metadata": {},
   "outputs": [
    {
     "data": {
      "text/plain": [
       "5"
      ]
     },
     "execution_count": 159,
     "metadata": {},
     "output_type": "execute_result"
    }
   ],
   "source": [
    "a[3,1]"
   ]
  },
  {
   "cell_type": "code",
   "execution_count": 170,
   "id": "112d95c4",
   "metadata": {},
   "outputs": [
    {
     "data": {
      "text/plain": [
       "array([[15,  6,  2, 18],\n",
       "       [12, 19, 16, 14],\n",
       "       [ 3, 19,  3, 10],\n",
       "       [11,  9, 10,  6]])"
      ]
     },
     "execution_count": 170,
     "metadata": {},
     "output_type": "execute_result"
    }
   ],
   "source": [
    "b = np.random.randint(0,20,(4,4))\n",
    "b"
   ]
  },
  {
   "cell_type": "code",
   "execution_count": 163,
   "id": "2cb83700",
   "metadata": {},
   "outputs": [
    {
     "data": {
      "text/plain": [
       "array([17, 14, 18,  9])"
      ]
     },
     "execution_count": 163,
     "metadata": {},
     "output_type": "execute_result"
    }
   ],
   "source": [
    "b[:,3]"
   ]
  },
  {
   "cell_type": "code",
   "execution_count": 164,
   "id": "350f0f36",
   "metadata": {},
   "outputs": [
    {
     "data": {
      "text/plain": [
       "array([14, 18])"
      ]
     },
     "execution_count": 164,
     "metadata": {},
     "output_type": "execute_result"
    }
   ],
   "source": [
    "b[1:3,3]"
   ]
  },
  {
   "cell_type": "code",
   "execution_count": 171,
   "id": "a2afe5a9",
   "metadata": {},
   "outputs": [
    {
     "data": {
      "text/plain": [
       "array([14, 10,  6])"
      ]
     },
     "execution_count": 171,
     "metadata": {},
     "output_type": "execute_result"
    }
   ],
   "source": [
    "c = b[1:4,3]\n",
    "c"
   ]
  },
  {
   "cell_type": "code",
   "execution_count": 167,
   "id": "ece42c59",
   "metadata": {},
   "outputs": [
    {
     "data": {
      "text/plain": [
       "(4, 4)"
      ]
     },
     "execution_count": 167,
     "metadata": {},
     "output_type": "execute_result"
    }
   ],
   "source": [
    "b.shape"
   ]
  },
  {
   "cell_type": "code",
   "execution_count": 172,
   "id": "371cd879",
   "metadata": {},
   "outputs": [
    {
     "data": {
      "text/plain": [
       "array([[14],\n",
       "       [10],\n",
       "       [ 6]])"
      ]
     },
     "execution_count": 172,
     "metadata": {},
     "output_type": "execute_result"
    }
   ],
   "source": [
    "d = c.reshape(-1,1)\n",
    "d"
   ]
  },
  {
   "cell_type": "code",
   "execution_count": 173,
   "id": "797be7c0",
   "metadata": {},
   "outputs": [
    {
     "data": {
      "text/plain": [
       "2"
      ]
     },
     "execution_count": 173,
     "metadata": {},
     "output_type": "execute_result"
    }
   ],
   "source": [
    "d.ndim\n"
   ]
  },
  {
   "cell_type": "code",
   "execution_count": 174,
   "id": "8a377441",
   "metadata": {},
   "outputs": [
    {
     "data": {
      "text/plain": [
       "array([56, 39, 16, 98, 56, 97])"
      ]
     },
     "execution_count": 174,
     "metadata": {},
     "output_type": "execute_result"
    }
   ],
   "source": [
    "d3 = np.random.randint(0,100,6)\n",
    "d3"
   ]
  },
  {
   "cell_type": "code",
   "execution_count": 175,
   "id": "a62182ca",
   "metadata": {},
   "outputs": [
    {
     "data": {
      "text/plain": [
       "1"
      ]
     },
     "execution_count": 175,
     "metadata": {},
     "output_type": "execute_result"
    }
   ],
   "source": [
    "d3.ndim"
   ]
  },
  {
   "cell_type": "code",
   "execution_count": 177,
   "id": "83c2b817",
   "metadata": {},
   "outputs": [
    {
     "data": {
      "text/plain": [
       "array([[ 9, 43, 69],\n",
       "       [ 6,  6, 24],\n",
       "       [25, 30, 42]])"
      ]
     },
     "execution_count": 177,
     "metadata": {},
     "output_type": "execute_result"
    }
   ],
   "source": [
    "x = np.random.randint(0,100,(3,3))\n",
    "x"
   ]
  },
  {
   "cell_type": "code",
   "execution_count": 178,
   "id": "d7ad20b8",
   "metadata": {},
   "outputs": [
    {
     "data": {
      "text/plain": [
       "array([[ 9, 43, 69],\n",
       "       [ 6,  6, 24],\n",
       "       [25, 30, 42],\n",
       "       [ 9, 43, 69],\n",
       "       [ 6,  6, 24],\n",
       "       [25, 30, 42]])"
      ]
     },
     "execution_count": 178,
     "metadata": {},
     "output_type": "execute_result"
    }
   ],
   "source": [
    "np.concatenate([x,x])"
   ]
  },
  {
   "cell_type": "code",
   "execution_count": 179,
   "id": "5d37919e",
   "metadata": {},
   "outputs": [
    {
     "data": {
      "text/plain": [
       "array([[ 9, 43, 69,  9, 43, 69],\n",
       "       [ 6,  6, 24,  6,  6, 24],\n",
       "       [25, 30, 42, 25, 30, 42]])"
      ]
     },
     "execution_count": 179,
     "metadata": {},
     "output_type": "execute_result"
    }
   ],
   "source": [
    "np.concatenate([x,x],axis=1)"
   ]
  },
  {
   "cell_type": "code",
   "execution_count": 180,
   "id": "e1291874",
   "metadata": {},
   "outputs": [
    {
     "data": {
      "text/plain": [
       "array([[ 9, 43, 69],\n",
       "       [ 6,  6, 24],\n",
       "       [25, 30, 42]])"
      ]
     },
     "execution_count": 180,
     "metadata": {},
     "output_type": "execute_result"
    }
   ],
   "source": [
    "x\n"
   ]
  },
  {
   "cell_type": "code",
   "execution_count": 182,
   "id": "24412c0d",
   "metadata": {},
   "outputs": [
    {
     "data": {
      "text/plain": [
       "[array([[ 9, 43, 69],\n",
       "        [ 6,  6, 24]]),\n",
       " array([[25, 30, 42]])]"
      ]
     },
     "execution_count": 182,
     "metadata": {},
     "output_type": "execute_result"
    }
   ],
   "source": [
    "np.split(x,[2])"
   ]
  },
  {
   "cell_type": "code",
   "execution_count": 183,
   "id": "701f08e9",
   "metadata": {},
   "outputs": [
    {
     "data": {
      "text/plain": [
       "[array([[ 9, 43],\n",
       "        [ 6,  6],\n",
       "        [25, 30]]),\n",
       " array([[69],\n",
       "        [24],\n",
       "        [42]])]"
      ]
     },
     "execution_count": 183,
     "metadata": {},
     "output_type": "execute_result"
    }
   ],
   "source": [
    "np.hsplit(x,[2])"
   ]
  },
  {
   "cell_type": "code",
   "execution_count": 184,
   "id": "dc15684d",
   "metadata": {},
   "outputs": [],
   "source": [
    "y,z = np.hsplit(x,[2])"
   ]
  },
  {
   "cell_type": "code",
   "execution_count": 185,
   "id": "9e9ea7c4",
   "metadata": {},
   "outputs": [
    {
     "data": {
      "text/plain": [
       "array([[ 9, 43],\n",
       "       [ 6,  6],\n",
       "       [25, 30]])"
      ]
     },
     "execution_count": 185,
     "metadata": {},
     "output_type": "execute_result"
    }
   ],
   "source": [
    "y"
   ]
  },
  {
   "cell_type": "code",
   "execution_count": 186,
   "id": "6f75621e",
   "metadata": {},
   "outputs": [
    {
     "data": {
      "text/plain": [
       "array([[69],\n",
       "       [24],\n",
       "       [42]])"
      ]
     },
     "execution_count": 186,
     "metadata": {},
     "output_type": "execute_result"
    }
   ],
   "source": [
    "z"
   ]
  },
  {
   "cell_type": "code",
   "execution_count": 187,
   "id": "c3240ed3",
   "metadata": {},
   "outputs": [
    {
     "data": {
      "text/plain": [
       "array([[93, 76, 58, 62, 24],\n",
       "       [91, 20, 19, 95, 41],\n",
       "       [56, 73, 56, 37, 63],\n",
       "       [65, 32, 63, 11, 97],\n",
       "       [32,  6, 47, 63, 59]])"
      ]
     },
     "execution_count": 187,
     "metadata": {},
     "output_type": "execute_result"
    }
   ],
   "source": [
    "t = np.random.randint(0,100,(5,5))\n",
    "t"
   ]
  },
  {
   "cell_type": "code",
   "execution_count": 188,
   "id": "526ee7b8",
   "metadata": {},
   "outputs": [
    {
     "data": {
      "text/plain": [
       "[array([[93, 76],\n",
       "        [91, 20],\n",
       "        [56, 73],\n",
       "        [65, 32],\n",
       "        [32,  6]]),\n",
       " array([[58, 62],\n",
       "        [19, 95],\n",
       "        [56, 37],\n",
       "        [63, 11],\n",
       "        [47, 63]]),\n",
       " array([[24],\n",
       "        [41],\n",
       "        [63],\n",
       "        [97],\n",
       "        [59]])]"
      ]
     },
     "execution_count": 188,
     "metadata": {},
     "output_type": "execute_result"
    }
   ],
   "source": [
    "np.hsplit(t,[2,4])"
   ]
  },
  {
   "cell_type": "code",
   "execution_count": 189,
   "id": "b3bf720b",
   "metadata": {},
   "outputs": [
    {
     "data": {
      "text/plain": [
       "[array([[93, 76, 58, 62, 24],\n",
       "        [91, 20, 19, 95, 41]]),\n",
       " array([[56, 73, 56, 37, 63],\n",
       "        [65, 32, 63, 11, 97]]),\n",
       " array([[32,  6, 47, 63, 59]])]"
      ]
     },
     "execution_count": 189,
     "metadata": {},
     "output_type": "execute_result"
    }
   ],
   "source": [
    "np.split(t,[2,4])"
   ]
  },
  {
   "cell_type": "code",
   "execution_count": 191,
   "id": "d8809c78",
   "metadata": {},
   "outputs": [
    {
     "data": {
      "text/plain": [
       "array([[1, 6, 2],\n",
       "       [9, 1, 1]])"
      ]
     },
     "execution_count": 191,
     "metadata": {},
     "output_type": "execute_result"
    }
   ],
   "source": [
    "x2 = np.random.randint(1,10,(2,3))\n",
    "x2"
   ]
  },
  {
   "cell_type": "code",
   "execution_count": 192,
   "id": "f83a28f7",
   "metadata": {},
   "outputs": [
    {
     "data": {
      "text/plain": [
       "9"
      ]
     },
     "execution_count": 192,
     "metadata": {},
     "output_type": "execute_result"
    }
   ],
   "source": [
    "x2.max()"
   ]
  },
  {
   "cell_type": "code",
   "execution_count": 193,
   "id": "14c2b8b7",
   "metadata": {},
   "outputs": [
    {
     "data": {
      "text/plain": [
       "20"
      ]
     },
     "execution_count": 193,
     "metadata": {},
     "output_type": "execute_result"
    }
   ],
   "source": [
    "x2.sum()"
   ]
  },
  {
   "cell_type": "code",
   "execution_count": 195,
   "id": "a7c257b6",
   "metadata": {},
   "outputs": [
    {
     "data": {
      "text/plain": [
       "array([[ 1, 36,  4],\n",
       "       [81,  1,  1]])"
      ]
     },
     "execution_count": 195,
     "metadata": {},
     "output_type": "execute_result"
    }
   ],
   "source": [
    "np.square(x2)"
   ]
  },
  {
   "cell_type": "code",
   "execution_count": null,
   "id": "687afd95",
   "metadata": {},
   "outputs": [],
   "source": []
  }
 ],
 "metadata": {
  "kernelspec": {
   "display_name": "Python 3 (ipykernel)",
   "language": "python",
   "name": "python3"
  },
  "language_info": {
   "codemirror_mode": {
    "name": "ipython",
    "version": 3
   },
   "file_extension": ".py",
   "mimetype": "text/x-python",
   "name": "python",
   "nbconvert_exporter": "python",
   "pygments_lexer": "ipython3",
   "version": "3.11.3"
  }
 },
 "nbformat": 4,
 "nbformat_minor": 5
}
