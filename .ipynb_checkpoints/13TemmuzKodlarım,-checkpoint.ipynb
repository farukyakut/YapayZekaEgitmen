{
 "cells": [
  {
   "cell_type": "code",
   "execution_count": 1,
   "id": "03ffc351",
   "metadata": {},
   "outputs": [],
   "source": [
    "###Python Giriş\n"
   ]
  },
  {
   "cell_type": "code",
   "execution_count": 2,
   "id": "7253e914",
   "metadata": {},
   "outputs": [],
   "source": [
    "name = \"Faruk Yakut\""
   ]
  },
  {
   "cell_type": "code",
   "execution_count": 3,
   "id": "bb9a4408",
   "metadata": {},
   "outputs": [
    {
     "data": {
      "text/plain": [
       "'Faruk Yakut'"
      ]
     },
     "execution_count": 3,
     "metadata": {},
     "output_type": "execute_result"
    }
   ],
   "source": [
    "name"
   ]
  },
  {
   "cell_type": "code",
   "execution_count": 4,
   "id": "9ecfd969",
   "metadata": {},
   "outputs": [
    {
     "name": "stdout",
     "output_type": "stream",
     "text": [
      "Faruk Yakut\n"
     ]
    }
   ],
   "source": [
    "print(name)"
   ]
  },
  {
   "cell_type": "code",
   "execution_count": 5,
   "id": "21dd99ab",
   "metadata": {},
   "outputs": [
    {
     "data": {
      "text/plain": [
       "int"
      ]
     },
     "execution_count": 5,
     "metadata": {},
     "output_type": "execute_result"
    }
   ],
   "source": [
    "sayi1 = 12\n",
    "type(sayi1)"
   ]
  },
  {
   "cell_type": "code",
   "execution_count": 6,
   "id": "2b59c086",
   "metadata": {},
   "outputs": [
    {
     "data": {
      "text/plain": [
       "bool"
      ]
     },
     "execution_count": 6,
     "metadata": {},
     "output_type": "execute_result"
    }
   ],
   "source": [
    "var1 = True\n",
    "var = False\n",
    "type(var1)"
   ]
  },
  {
   "cell_type": "code",
   "execution_count": 7,
   "id": "dfb76a85",
   "metadata": {},
   "outputs": [
    {
     "data": {
      "text/plain": [
       "float"
      ]
     },
     "execution_count": 7,
     "metadata": {},
     "output_type": "execute_result"
    }
   ],
   "source": [
    "rakam = 3.14\n",
    "type(rakam)"
   ]
  },
  {
   "cell_type": "code",
   "execution_count": 8,
   "id": "8afc7b03",
   "metadata": {},
   "outputs": [
    {
     "data": {
      "text/plain": [
       "3"
      ]
     },
     "execution_count": 8,
     "metadata": {},
     "output_type": "execute_result"
    }
   ],
   "source": [
    "rakam = int(3.14)\n",
    "rakam"
   ]
  },
  {
   "cell_type": "code",
   "execution_count": 9,
   "id": "b76d2d42",
   "metadata": {},
   "outputs": [
    {
     "name": "stdout",
     "output_type": "stream",
     "text": [
      "İsim : faruk\n",
      "faruk\n"
     ]
    },
    {
     "data": {
      "text/plain": [
       "str"
      ]
     },
     "execution_count": 9,
     "metadata": {},
     "output_type": "execute_result"
    }
   ],
   "source": [
    "name =  input(\"İsim : \")\n",
    "print(name)\n",
    "type(name)"
   ]
  },
  {
   "cell_type": "code",
   "execution_count": 10,
   "id": "d87ee96e",
   "metadata": {},
   "outputs": [
    {
     "name": "stdout",
     "output_type": "stream",
     "text": [
      "Yaşınız :15\n"
     ]
    },
    {
     "data": {
      "text/plain": [
       "str"
      ]
     },
     "execution_count": 10,
     "metadata": {},
     "output_type": "execute_result"
    }
   ],
   "source": [
    "rakam = input(\"Yaşınız :\" )\n",
    "type(rakam)\n"
   ]
  },
  {
   "cell_type": "code",
   "execution_count": 11,
   "id": "ae669c0b",
   "metadata": {},
   "outputs": [
    {
     "name": "stdout",
     "output_type": "stream",
     "text": [
      "Yaşınız :15\n"
     ]
    },
    {
     "data": {
      "text/plain": [
       "int"
      ]
     },
     "execution_count": 11,
     "metadata": {},
     "output_type": "execute_result"
    }
   ],
   "source": [
    "rakam = input(\"Yaşınız :\" )\n",
    "rakam = int(rakam)\n",
    "type(rakam)"
   ]
  },
  {
   "cell_type": "code",
   "execution_count": 12,
   "id": "60d85362",
   "metadata": {},
   "outputs": [
    {
     "data": {
      "text/plain": [
       "6"
      ]
     },
     "execution_count": 12,
     "metadata": {},
     "output_type": "execute_result"
    }
   ],
   "source": [
    "2*3\n"
   ]
  },
  {
   "cell_type": "code",
   "execution_count": 13,
   "id": "8d9550e0",
   "metadata": {},
   "outputs": [
    {
     "data": {
      "text/plain": [
       "8"
      ]
     },
     "execution_count": 13,
     "metadata": {},
     "output_type": "execute_result"
    }
   ],
   "source": [
    "2**3"
   ]
  },
  {
   "cell_type": "code",
   "execution_count": 14,
   "id": "8528bc4f",
   "metadata": {},
   "outputs": [
    {
     "data": {
      "text/plain": [
       "8"
      ]
     },
     "execution_count": 14,
     "metadata": {},
     "output_type": "execute_result"
    }
   ],
   "source": [
    "pow(2,3)"
   ]
  },
  {
   "cell_type": "code",
   "execution_count": 15,
   "id": "b87a37cf",
   "metadata": {},
   "outputs": [],
   "source": [
    "## if-else"
   ]
  },
  {
   "cell_type": "code",
   "execution_count": 16,
   "id": "5c61bf6d",
   "metadata": {},
   "outputs": [
    {
     "name": "stdout",
     "output_type": "stream",
     "text": [
      "Bir sayı giriniz : 5\n",
      "sayı 10'dan küçük\n"
     ]
    }
   ],
   "source": [
    "number = int(input(\"Bir sayı giriniz : \"))\n",
    "if number < 10:\n",
    "    print(\"sayı 10'dan küçük\")\n",
    "else:\n",
    "    print(\"sayı küçük 10\")"
   ]
  },
  {
   "cell_type": "code",
   "execution_count": 17,
   "id": "6771c1a8",
   "metadata": {},
   "outputs": [],
   "source": [
    "### forDöngüsü"
   ]
  },
  {
   "cell_type": "code",
   "execution_count": 18,
   "id": "ee9f262b",
   "metadata": {},
   "outputs": [
    {
     "name": "stdout",
     "output_type": "stream",
     "text": [
      "0\n",
      "1\n",
      "2\n",
      "3\n",
      "4\n"
     ]
    }
   ],
   "source": [
    "for i in range(5):\n",
    "    print(i)"
   ]
  },
  {
   "cell_type": "code",
   "execution_count": 19,
   "id": "5f742176",
   "metadata": {},
   "outputs": [
    {
     "name": "stdout",
     "output_type": "stream",
     "text": [
      "5\n",
      "6\n",
      "7\n",
      "8\n",
      "9\n"
     ]
    }
   ],
   "source": [
    "for i in range(5,10):\n",
    "    print(i)"
   ]
  },
  {
   "cell_type": "code",
   "execution_count": 20,
   "id": "d0ef4cc3",
   "metadata": {},
   "outputs": [
    {
     "name": "stdout",
     "output_type": "stream",
     "text": [
      "5\n",
      "7\n",
      "9\n",
      "11\n",
      "13\n"
     ]
    }
   ],
   "source": [
    "for i in range(5,15,2):\n",
    "    print(i)"
   ]
  },
  {
   "cell_type": "code",
   "execution_count": 21,
   "id": "d1c13c67",
   "metadata": {},
   "outputs": [
    {
     "name": "stdout",
     "output_type": "stream",
     "text": [
      "5\n",
      "4\n",
      "3\n",
      "2\n",
      "1\n"
     ]
    }
   ],
   "source": [
    "for i in range(5,0,-1):\n",
    "    print(i)"
   ]
  },
  {
   "cell_type": "code",
   "execution_count": 22,
   "id": "19fb0937",
   "metadata": {},
   "outputs": [
    {
     "name": "stdout",
     "output_type": "stream",
     "text": [
      "f\n",
      "a\n",
      "r\n",
      "u\n",
      "k\n"
     ]
    }
   ],
   "source": [
    "name=\"faruk\"\n",
    "\n",
    "for j in name:\n",
    "    print(j)"
   ]
  },
  {
   "cell_type": "code",
   "execution_count": 23,
   "id": "e4912f7d",
   "metadata": {},
   "outputs": [],
   "source": [
    "### 1' den 10' a kadar olan sayıların toplamı\n"
   ]
  },
  {
   "cell_type": "code",
   "execution_count": 25,
   "id": "227f0647",
   "metadata": {},
   "outputs": [
    {
     "data": {
      "text/plain": [
       "55"
      ]
     },
     "execution_count": 25,
     "metadata": {},
     "output_type": "execute_result"
    }
   ],
   "source": [
    "toplam = 0\n",
    "for i in range(11):\n",
    "    toplam +=i\n",
    "\n",
    "toplam    \n",
    "    "
   ]
  },
  {
   "cell_type": "code",
   "execution_count": 26,
   "id": "08a8cfb0",
   "metadata": {},
   "outputs": [],
   "source": [
    "###whilw"
   ]
  },
  {
   "cell_type": "code",
   "execution_count": 29,
   "id": "12393a20",
   "metadata": {},
   "outputs": [
    {
     "name": "stdout",
     "output_type": "stream",
     "text": [
      "Tahmininizi giriniz : 10\n",
      "Yanlış tahmin\n",
      "Tahmininizi giriniz : 9\n",
      "Yanlış tahmin\n",
      "Tahmininizi giriniz : 8\n",
      "Yanlış tahmin\n",
      "Tahmininizi giriniz : 7\n",
      "Yanlış tahmin\n",
      "Tahmininizi giriniz : 6\n",
      "Yanlış tahmin\n",
      "Tahmininizi giriniz : 5\n",
      "Doğru sayi\n"
     ]
    }
   ],
   "source": [
    "import random\n",
    "secret_number = random.randint(1,10)\n",
    "while True:\n",
    "    guess = int(input(\"Tahmininizi giriniz : \"))\n",
    "    if guess == secret_number:\n",
    "        print(\"Doğru sayi\")\n",
    "        break\n",
    "    else:\n",
    "        print(\"Yanlış tahmin\")"
   ]
  },
  {
   "cell_type": "code",
   "execution_count": 30,
   "id": "1ce5c10a",
   "metadata": {},
   "outputs": [],
   "source": [
    "###func"
   ]
  },
  {
   "cell_type": "code",
   "execution_count": 34,
   "id": "48e88dfe",
   "metadata": {},
   "outputs": [
    {
     "name": "stdout",
     "output_type": "stream",
     "text": [
      "55\n",
      "55\n",
      "None\n"
     ]
    }
   ],
   "source": [
    "def toplama(rakam):\n",
    "    toplam = 0\n",
    "    for i in range(rakam+1):\n",
    "        toplam += i\n",
    "        \n",
    "    print(toplam)    \n",
    "        \n",
    "        \n",
    "toplama(10)\n",
    "print(toplama(10))"
   ]
  },
  {
   "cell_type": "code",
   "execution_count": 33,
   "id": "be0fc433",
   "metadata": {},
   "outputs": [
    {
     "name": "stdout",
     "output_type": "stream",
     "text": [
      "55\n"
     ]
    }
   ],
   "source": [
    "def toplama2(rakam):\n",
    "    toplam = 0\n",
    "    for i in range(rakam+1):\n",
    "        toplam += i\n",
    "        \n",
    "    return toplam   \n",
    "        \n",
    "        \n",
    "toplama2(10)\n",
    "print(toplama2(10))"
   ]
  },
  {
   "cell_type": "code",
   "execution_count": 35,
   "id": "2c266174",
   "metadata": {},
   "outputs": [],
   "source": [
    "###Listeler"
   ]
  },
  {
   "cell_type": "code",
   "execution_count": 39,
   "id": "27a897b1",
   "metadata": {},
   "outputs": [
    {
     "name": "stdout",
     "output_type": "stream",
     "text": [
      "[1, 2, 3, 4, 5, 6, 7, 8, 9]\n",
      "9\n",
      "1\n",
      "8\n",
      "[9]\n"
     ]
    }
   ],
   "source": [
    "liste = [1,2,3,4,5,6,7,8,9]\n",
    "\n",
    "print(liste)\n",
    "\n",
    "print(liste[-1])\n",
    "print(liste[0])\n",
    "print(liste[-2])\n",
    "print(liste[-1:])\n",
    "\n",
    "\n"
   ]
  },
  {
   "cell_type": "code",
   "execution_count": 61,
   "id": "ce9e4d73",
   "metadata": {},
   "outputs": [
    {
     "data": {
      "text/plain": [
       "8"
      ]
     },
     "execution_count": 61,
     "metadata": {},
     "output_type": "execute_result"
    }
   ],
   "source": [
    "liste2 = [1,2,3,\"elma\",\"armut\",True,False,[\"a\",8,7]]\n",
    "len(liste2)\n"
   ]
  },
  {
   "cell_type": "code",
   "execution_count": 47,
   "id": "40a6243e",
   "metadata": {},
   "outputs": [
    {
     "data": {
      "text/plain": [
       "['a', 8, 7]"
      ]
     },
     "execution_count": 47,
     "metadata": {},
     "output_type": "execute_result"
    }
   ],
   "source": [
    "liste2[-1]"
   ]
  },
  {
   "cell_type": "code",
   "execution_count": 48,
   "id": "8acda091",
   "metadata": {},
   "outputs": [
    {
     "data": {
      "text/plain": [
       "7"
      ]
     },
     "execution_count": 48,
     "metadata": {},
     "output_type": "execute_result"
    }
   ],
   "source": [
    "liste2[-1][2]"
   ]
  },
  {
   "cell_type": "code",
   "execution_count": 49,
   "id": "ef5b8b14",
   "metadata": {},
   "outputs": [
    {
     "data": {
      "text/plain": [
       "[1, 2, 3, 'elma', 'armut']"
      ]
     },
     "execution_count": 49,
     "metadata": {},
     "output_type": "execute_result"
    }
   ],
   "source": [
    "liste2[0:5]"
   ]
  },
  {
   "cell_type": "code",
   "execution_count": 50,
   "id": "0da12765",
   "metadata": {},
   "outputs": [
    {
     "data": {
      "text/plain": [
       "[3, 'elma', 'armut', True]"
      ]
     },
     "execution_count": 50,
     "metadata": {},
     "output_type": "execute_result"
    }
   ],
   "source": [
    "liste2[2:6]"
   ]
  },
  {
   "cell_type": "code",
   "execution_count": 51,
   "id": "d25c839d",
   "metadata": {},
   "outputs": [
    {
     "data": {
      "text/plain": [
       "[1, 2, 3, 'elma', 'armut']"
      ]
     },
     "execution_count": 51,
     "metadata": {},
     "output_type": "execute_result"
    }
   ],
   "source": [
    "liste2[:5]"
   ]
  },
  {
   "cell_type": "code",
   "execution_count": 52,
   "id": "b33a0d5e",
   "metadata": {},
   "outputs": [
    {
     "data": {
      "text/plain": [
       "[1, 2, 3, 'elma', 'armut', True, False]"
      ]
     },
     "execution_count": 52,
     "metadata": {},
     "output_type": "execute_result"
    }
   ],
   "source": [
    "liste2[:-1]"
   ]
  },
  {
   "cell_type": "code",
   "execution_count": 53,
   "id": "06a7a36e",
   "metadata": {},
   "outputs": [
    {
     "data": {
      "text/plain": [
       "[3, 'elma', 'armut', True, False, ['a', 8, 7]]"
      ]
     },
     "execution_count": 53,
     "metadata": {},
     "output_type": "execute_result"
    }
   ],
   "source": [
    "liste2[2:]"
   ]
  },
  {
   "cell_type": "code",
   "execution_count": 54,
   "id": "5266c31a",
   "metadata": {},
   "outputs": [],
   "source": [
    "liste2.append(11)"
   ]
  },
  {
   "cell_type": "code",
   "execution_count": 55,
   "id": "4254657f",
   "metadata": {},
   "outputs": [
    {
     "data": {
      "text/plain": [
       "[1, 2, 3, 'elma', 'armut', True, False, ['a', 8, 7], 11]"
      ]
     },
     "execution_count": 55,
     "metadata": {},
     "output_type": "execute_result"
    }
   ],
   "source": [
    "liste2"
   ]
  },
  {
   "cell_type": "code",
   "execution_count": 62,
   "id": "99771e9c",
   "metadata": {},
   "outputs": [
    {
     "data": {
      "text/plain": [
       "[1, 'fare', 2, 3, 'elma', 'armut', True, False, ['a', 8, 7]]"
      ]
     },
     "execution_count": 62,
     "metadata": {},
     "output_type": "execute_result"
    }
   ],
   "source": [
    "liste2.insert(1,\"fare\")\n",
    "liste2"
   ]
  },
  {
   "cell_type": "code",
   "execution_count": 63,
   "id": "5e1b74fc",
   "metadata": {},
   "outputs": [
    {
     "data": {
      "text/plain": [
       "[1, 'fare', 3, 'elma', 'armut', True, False, ['a', 8, 7]]"
      ]
     },
     "execution_count": 63,
     "metadata": {},
     "output_type": "execute_result"
    }
   ],
   "source": [
    "del liste2[2]\n",
    "liste2"
   ]
  },
  {
   "cell_type": "code",
   "execution_count": 64,
   "id": "62345d52",
   "metadata": {},
   "outputs": [
    {
     "data": {
      "text/plain": [
       "[1, 'fare', 3, 'elma', 'armut', True, False, ['a', 8, 7], [4, 8, 9]]"
      ]
     },
     "execution_count": 64,
     "metadata": {},
     "output_type": "execute_result"
    }
   ],
   "source": [
    "liste2.append([4,8,9])\n",
    "liste2\n"
   ]
  },
  {
   "cell_type": "code",
   "execution_count": 65,
   "id": "ce24f24b",
   "metadata": {},
   "outputs": [
    {
     "data": {
      "text/plain": [
       "[1, 'fare', 3, 'elma', 'armut', True, False, ['a', 8, 7], [4, 8, 9], 4, 8, 9]"
      ]
     },
     "execution_count": 65,
     "metadata": {},
     "output_type": "execute_result"
    }
   ],
   "source": [
    "liste2.extend([4,8,9])\n",
    "liste2"
   ]
  },
  {
   "cell_type": "code",
   "execution_count": 66,
   "id": "c63aa414",
   "metadata": {},
   "outputs": [
    {
     "data": {
      "text/plain": [
       "[1, 'fare', 3, 'elma', True, False, ['a', 8, 7], [4, 8, 9], 4, 8, 9]"
      ]
     },
     "execution_count": 66,
     "metadata": {},
     "output_type": "execute_result"
    }
   ],
   "source": [
    "liste2.remove(\"armut\")\n",
    "liste2"
   ]
  },
  {
   "cell_type": "code",
   "execution_count": 67,
   "id": "a321c6ae",
   "metadata": {},
   "outputs": [
    {
     "data": {
      "text/plain": [
       "False"
      ]
     },
     "execution_count": 67,
     "metadata": {},
     "output_type": "execute_result"
    }
   ],
   "source": [
    "\"merhaba\" in liste"
   ]
  },
  {
   "cell_type": "code",
   "execution_count": 68,
   "id": "befe54b7",
   "metadata": {},
   "outputs": [
    {
     "data": {
      "text/plain": [
       "True"
      ]
     },
     "execution_count": 68,
     "metadata": {},
     "output_type": "execute_result"
    }
   ],
   "source": [
    "\"elma\" in liste2"
   ]
  },
  {
   "cell_type": "code",
   "execution_count": 69,
   "id": "1ef69467",
   "metadata": {},
   "outputs": [
    {
     "data": {
      "text/plain": [
       "True"
      ]
     },
     "execution_count": 69,
     "metadata": {},
     "output_type": "execute_result"
    }
   ],
   "source": [
    "1 in liste2"
   ]
  },
  {
   "cell_type": "code",
   "execution_count": 70,
   "id": "e71b374b",
   "metadata": {},
   "outputs": [
    {
     "data": {
      "text/plain": [
       "[1, 'fare', 3, 'elma', True, False, ['a', 8, 7], [4, 8, 9], 4, 8, 9, 9, 9, 9]"
      ]
     },
     "execution_count": 70,
     "metadata": {},
     "output_type": "execute_result"
    }
   ],
   "source": [
    "liste2.extend([9,9,9])\n",
    "liste2"
   ]
  },
  {
   "cell_type": "code",
   "execution_count": 72,
   "id": "6c26db6d",
   "metadata": {},
   "outputs": [
    {
     "data": {
      "text/plain": [
       "[1, 'fare', 3, 'elma', True, False, ['a', 8, 7], [4, 8, 9], 4, 8]"
      ]
     },
     "execution_count": 72,
     "metadata": {},
     "output_type": "execute_result"
    }
   ],
   "source": [
    "while 9 in liste2:\n",
    "    liste2.remove(9)\n",
    "    \n",
    "liste2    "
   ]
  },
  {
   "cell_type": "code",
   "execution_count": 73,
   "id": "e85b0e62",
   "metadata": {},
   "outputs": [],
   "source": [
    "liste3 = [9,4,6,7,2,3,1,5]\n",
    "liste4 = [\"kedi\",\"pande\",\"at\",\"eşşek\"]"
   ]
  },
  {
   "cell_type": "code",
   "execution_count": 75,
   "id": "8aafbb9c",
   "metadata": {},
   "outputs": [
    {
     "data": {
      "text/plain": [
       "[1, 2, 3, 4, 5, 6, 7, 9]"
      ]
     },
     "execution_count": 75,
     "metadata": {},
     "output_type": "execute_result"
    }
   ],
   "source": [
    "liste3.sort()\n",
    "liste3"
   ]
  },
  {
   "cell_type": "code",
   "execution_count": 76,
   "id": "4bf9672a",
   "metadata": {},
   "outputs": [
    {
     "data": {
      "text/plain": [
       "[9, 7, 6, 5, 4, 3, 2, 1]"
      ]
     },
     "execution_count": 76,
     "metadata": {},
     "output_type": "execute_result"
    }
   ],
   "source": [
    "liste3.sort(reverse = True)\n",
    "liste3"
   ]
  },
  {
   "cell_type": "code",
   "execution_count": 77,
   "id": "ab607848",
   "metadata": {},
   "outputs": [
    {
     "data": {
      "text/plain": [
       "['at', 'eşşek', 'kedi', 'pande']"
      ]
     },
     "execution_count": 77,
     "metadata": {},
     "output_type": "execute_result"
    }
   ],
   "source": [
    "liste4.sort()\n",
    "liste4"
   ]
  },
  {
   "cell_type": "code",
   "execution_count": 78,
   "id": "8791c893",
   "metadata": {},
   "outputs": [],
   "source": [
    "###Sözlük (Dictionary) Veri Yapısı"
   ]
  },
  {
   "cell_type": "code",
   "execution_count": 79,
   "id": "c0bc3627",
   "metadata": {},
   "outputs": [
    {
     "data": {
      "text/plain": [
       "{}"
      ]
     },
     "execution_count": 79,
     "metadata": {},
     "output_type": "execute_result"
    }
   ],
   "source": [
    "myCat = {}\n",
    "myCat"
   ]
  },
  {
   "cell_type": "code",
   "execution_count": 80,
   "id": "8cc2e30c",
   "metadata": {},
   "outputs": [],
   "source": [
    "myCat = {\"size\":\"fat\",\"age\":2,\"color\":\"white\"}"
   ]
  },
  {
   "cell_type": "code",
   "execution_count": 81,
   "id": "fe4a43c3",
   "metadata": {},
   "outputs": [
    {
     "data": {
      "text/plain": [
       "dict_keys(['size', 'age', 'color'])"
      ]
     },
     "execution_count": 81,
     "metadata": {},
     "output_type": "execute_result"
    }
   ],
   "source": [
    "myCat.keys()"
   ]
  },
  {
   "cell_type": "code",
   "execution_count": 83,
   "id": "9cebd184",
   "metadata": {},
   "outputs": [
    {
     "data": {
      "text/plain": [
       "['size', 'age', 'color']"
      ]
     },
     "execution_count": 83,
     "metadata": {},
     "output_type": "execute_result"
    }
   ],
   "source": [
    "list(myCat.keys())"
   ]
  },
  {
   "cell_type": "code",
   "execution_count": 84,
   "id": "c724aabd",
   "metadata": {},
   "outputs": [
    {
     "data": {
      "text/plain": [
       "dict_values(['fat', 2, 'white'])"
      ]
     },
     "execution_count": 84,
     "metadata": {},
     "output_type": "execute_result"
    }
   ],
   "source": [
    "myCat.values()"
   ]
  },
  {
   "cell_type": "code",
   "execution_count": 85,
   "id": "16aca759",
   "metadata": {},
   "outputs": [
    {
     "data": {
      "text/plain": [
       "{'size': 'fat', 'age': 2, 'color': 'white'}"
      ]
     },
     "execution_count": 85,
     "metadata": {},
     "output_type": "execute_result"
    }
   ],
   "source": [
    "myCat\n"
   ]
  },
  {
   "cell_type": "code",
   "execution_count": 86,
   "id": "409b4413",
   "metadata": {},
   "outputs": [
    {
     "data": {
      "text/plain": [
       "dict_items([('size', 'fat'), ('age', 2), ('color', 'white')])"
      ]
     },
     "execution_count": 86,
     "metadata": {},
     "output_type": "execute_result"
    }
   ],
   "source": [
    "myCat.items()"
   ]
  },
  {
   "cell_type": "code",
   "execution_count": 88,
   "id": "cf68f9e0",
   "metadata": {},
   "outputs": [],
   "source": [
    "ogrenciler={\"isim\" : [\"ahmet\",\"zeynep\",\"veli\"],\n",
    "           \"yas\":[15,16,15],\n",
    "           \"boy\":[160,165,185]}"
   ]
  },
  {
   "cell_type": "code",
   "execution_count": 89,
   "id": "0d6a430d",
   "metadata": {},
   "outputs": [
    {
     "data": {
      "text/plain": [
       "{'isim': ['ahmet', 'zeynep', 'veli'],\n",
       " 'yas': [15, 16, 15],\n",
       " 'boy': [160, 165, 185]}"
      ]
     },
     "execution_count": 89,
     "metadata": {},
     "output_type": "execute_result"
    }
   ],
   "source": [
    "ogrenciler"
   ]
  },
  {
   "cell_type": "code",
   "execution_count": 90,
   "id": "6a0d98e1",
   "metadata": {},
   "outputs": [],
   "source": [
    "ogrenciler[\"notlar\"]=[75,80,95]"
   ]
  },
  {
   "cell_type": "code",
   "execution_count": 91,
   "id": "98946c4d",
   "metadata": {},
   "outputs": [
    {
     "data": {
      "text/plain": [
       "{'isim': ['ahmet', 'zeynep', 'veli'],\n",
       " 'yas': [15, 16, 15],\n",
       " 'boy': [160, 165, 185],\n",
       " 'notlar': [75, 80, 95]}"
      ]
     },
     "execution_count": 91,
     "metadata": {},
     "output_type": "execute_result"
    }
   ],
   "source": [
    "ogrenciler"
   ]
  },
  {
   "cell_type": "code",
   "execution_count": 92,
   "id": "aa62c00f",
   "metadata": {},
   "outputs": [
    {
     "data": {
      "text/plain": [
       "True"
      ]
     },
     "execution_count": 92,
     "metadata": {},
     "output_type": "execute_result"
    }
   ],
   "source": [
    "\"isim\" in ogrenciler.keys()"
   ]
  },
  {
   "cell_type": "code",
   "execution_count": 94,
   "id": "8dfe4502",
   "metadata": {},
   "outputs": [
    {
     "data": {
      "text/plain": [
       "dict_values([['ahmet', 'zeynep', 'veli'], [15, 16, 15], [160, 165, 185], [75, 80, 95]])"
      ]
     },
     "execution_count": 94,
     "metadata": {},
     "output_type": "execute_result"
    }
   ],
   "source": [
    "ogrenciler.values()"
   ]
  },
  {
   "cell_type": "code",
   "execution_count": 95,
   "id": "3cf10e6e",
   "metadata": {},
   "outputs": [
    {
     "data": {
      "text/plain": [
       "False"
      ]
     },
     "execution_count": 95,
     "metadata": {},
     "output_type": "execute_result"
    }
   ],
   "source": [
    "\"zeynep\" in ogrenciler.values()"
   ]
  },
  {
   "cell_type": "code",
   "execution_count": 96,
   "id": "3c958b88",
   "metadata": {},
   "outputs": [
    {
     "data": {
      "text/plain": [
       "True"
      ]
     },
     "execution_count": 96,
     "metadata": {},
     "output_type": "execute_result"
    }
   ],
   "source": [
    "\"zeynep\" in ogrenciler[\"isim\"]"
   ]
  },
  {
   "cell_type": "code",
   "execution_count": 97,
   "id": "6baeb9fc",
   "metadata": {},
   "outputs": [
    {
     "name": "stdout",
     "output_type": "stream",
     "text": [
      "isim\n",
      "yas\n",
      "boy\n",
      "notlar\n"
     ]
    }
   ],
   "source": [
    "for i in ogrenciler.keys():\n",
    "    print(i)\n"
   ]
  },
  {
   "cell_type": "code",
   "execution_count": 98,
   "id": "9e965303",
   "metadata": {},
   "outputs": [
    {
     "name": "stdout",
     "output_type": "stream",
     "text": [
      "('isim', ['ahmet', 'zeynep', 'veli'])\n",
      "('yas', [15, 16, 15])\n",
      "('boy', [160, 165, 185])\n",
      "('notlar', [75, 80, 95])\n"
     ]
    }
   ],
   "source": [
    "for i in ogrenciler.items():\n",
    "    print(i)"
   ]
  },
  {
   "cell_type": "code",
   "execution_count": 104,
   "id": "f5adf7a9",
   "metadata": {},
   "outputs": [
    {
     "name": "stdout",
     "output_type": "stream",
     "text": [
      "ahmet 15 160 75 "
     ]
    }
   ],
   "source": [
    "#ahmet, 15,160,75\n",
    "\n",
    "for i in ogrenciler.keys():\n",
    "    print(ogrenciler[i][0], end=\" \")\n"
   ]
  },
  {
   "cell_type": "code",
   "execution_count": 111,
   "id": "c3bc83d2",
   "metadata": {},
   "outputs": [
    {
     "name": "stdout",
     "output_type": "stream",
     "text": [
      "\n",
      "ahmet 15 160 75 \n",
      "zeynep 16 165 80 \n",
      "veli 15 185 95 "
     ]
    }
   ],
   "source": [
    "for i in range(len(ogrenciler.values())-1):\n",
    "    print()\n",
    "    for j in ogrenciler.keys():\n",
    "            print(ogrenciler[j][i], end=\" \")\n",
    "        "
   ]
  },
  {
   "cell_type": "code",
   "execution_count": 114,
   "id": "0a022113",
   "metadata": {},
   "outputs": [
    {
     "name": "stdout",
     "output_type": "stream",
     "text": [
      "[6, 24, 54]\n"
     ]
    }
   ],
   "source": [
    "###Numpy Kütüphanesi\n",
    "liste1=[2,4,6]\n",
    "liste2=[3,6,9]\n",
    "\n",
    "liste3=[]\n",
    "for i in range(len(liste1)):\n",
    "    liste3.append(liste1[i]*liste2[i])\n",
    "print(liste3)    "
   ]
  },
  {
   "cell_type": "code",
   "execution_count": 115,
   "id": "2e589edf",
   "metadata": {},
   "outputs": [],
   "source": [
    "import numpy as np"
   ]
  },
  {
   "cell_type": "code",
   "execution_count": 116,
   "id": "f7e0d463",
   "metadata": {},
   "outputs": [
    {
     "name": "stdout",
     "output_type": "stream",
     "text": [
      "[ 6 24 54]\n"
     ]
    }
   ],
   "source": [
    "a = np.array([2,4,6])\n",
    "b = np.array([3,6,9])\n",
    "print(a*b)"
   ]
  },
  {
   "cell_type": "code",
   "execution_count": 117,
   "id": "79e50c0b",
   "metadata": {},
   "outputs": [],
   "source": [
    "c = np.array([2,3,5,3.14])"
   ]
  },
  {
   "cell_type": "code",
   "execution_count": 118,
   "id": "81747e36",
   "metadata": {},
   "outputs": [
    {
     "data": {
      "text/plain": [
       "array([2.  , 3.  , 5.  , 3.14])"
      ]
     },
     "execution_count": 118,
     "metadata": {},
     "output_type": "execute_result"
    }
   ],
   "source": [
    "c"
   ]
  },
  {
   "cell_type": "code",
   "execution_count": 119,
   "id": "189fd678",
   "metadata": {},
   "outputs": [],
   "source": [
    "d = np.array([2,3,5,3.14],dtype=\"int\")"
   ]
  },
  {
   "cell_type": "code",
   "execution_count": 120,
   "id": "183d3600",
   "metadata": {},
   "outputs": [
    {
     "data": {
      "text/plain": [
       "array([2, 3, 5, 3])"
      ]
     },
     "execution_count": 120,
     "metadata": {},
     "output_type": "execute_result"
    }
   ],
   "source": [
    "d"
   ]
  },
  {
   "cell_type": "code",
   "execution_count": null,
   "id": "5ff335db",
   "metadata": {},
   "outputs": [],
   "source": []
  }
 ],
 "metadata": {
  "kernelspec": {
   "display_name": "Python 3 (ipykernel)",
   "language": "python",
   "name": "python3"
  },
  "language_info": {
   "codemirror_mode": {
    "name": "ipython",
    "version": 3
   },
   "file_extension": ".py",
   "mimetype": "text/x-python",
   "name": "python",
   "nbconvert_exporter": "python",
   "pygments_lexer": "ipython3",
   "version": "3.11.3"
  }
 },
 "nbformat": 4,
 "nbformat_minor": 5
}
